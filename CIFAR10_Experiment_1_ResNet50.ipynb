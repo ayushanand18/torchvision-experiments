{
  "nbformat": 4,
  "nbformat_minor": 0,
  "metadata": {
    "colab": {
      "name": "CIFAR10 Experiment 1 - ResNet50.ipynb",
      "provenance": [],
      "collapsed_sections": [],
      "authorship_tag": "ABX9TyOdBGDmGOXBb9dxaynTsvBB",
      "include_colab_link": true
    },
    "kernelspec": {
      "name": "python3",
      "display_name": "Python 3"
    },
    "language_info": {
      "name": "python"
    }
  },
  "cells": [
    {
      "cell_type": "markdown",
      "metadata": {
        "id": "view-in-github",
        "colab_type": "text"
      },
      "source": [
        "<a href=\"https://colab.research.google.com/github/ayushanand18/torchvision-experiments/blob/main/CIFAR10_Experiment_1_ResNet50.ipynb\" target=\"_parent\"><img src=\"https://colab.research.google.com/assets/colab-badge.svg\" alt=\"Open In Colab\"/></a>"
      ]
    },
    {
      "cell_type": "markdown",
      "source": [
        "# CIFAR10 Experiment 1 - ResNet50 with Image Transformations."
      ],
      "metadata": {
        "id": "NZcNhr9NJq4v"
      }
    },
    {
      "cell_type": "markdown",
      "source": [
        "We are going to apply different image transformations and hyperparameters on ResNet50 architecture.\\\n",
        "We will do the following experiments here.\n",
        "1. ResNet50 with `no` image transformations.\n",
        "2. ResNet50 with `transforms.ColorJitter`.\n",
        "3. ResNet50 with `transforms.RandomRotation`.\n",
        "4. ResNet50 with `transforms.RandomRotation` + `transforms.ColorJitter`.\n",
        "5. ResNet50 with `transforms.RandomRotattion` + `transforms.Grayscale`.\n",
        "\n",
        "`Batchsize`: 128; `CyclicLR`: optimizer: Ranger, baseLR=1e-4, maxLR=1e-3,  stepsize=1e+3."
      ],
      "metadata": {
        "id": "aibXgaxEJ53D"
      }
    },
    {
      "cell_type": "markdown",
      "source": [
        "## Importing Libraries"
      ],
      "metadata": {
        "id": "e6U_Jb2oNlmo"
      }
    },
    {
      "cell_type": "code",
      "execution_count": null,
      "metadata": {
        "id": "66L-eaVr2Nl2"
      },
      "outputs": [],
      "source": [
        "import numpy as np\n",
        "import pandas as pd\n",
        "import cv2\n",
        "import matplotlib.pyplot as plt\n",
        "import os\n",
        "from PIL import Image\n",
        "import torch\n",
        "from torchvision import datasets\n",
        "from torchvision.transforms import ToTensor\n",
        "import torchvision.transforms as transforms"
      ]
    },
    {
      "cell_type": "markdown",
      "source": [
        "## Downloading Dataset"
      ],
      "metadata": {
        "id": "dgXH9UaDNvTC"
      }
    },
    {
      "cell_type": "code",
      "source": [
        "datacifar=datasets.CIFAR10('/content/torch_data/',download=True, transform=ToTensor())"
      ],
      "metadata": {
        "id": "CoSEC0YuNuyP"
      },
      "execution_count": null,
      "outputs": []
    },
    {
      "cell_type": "markdown",
      "source": [
        "## 1. No Image transformations."
      ],
      "metadata": {
        "id": "AqT9kaI0PFWH"
      }
    },
    {
      "cell_type": "code",
      "source": [
        "transform1=transforms.Compose([transforms.ToTensor()])\n",
        "data1=dataset.CIFAR10('/content/torch_data/', transform=transform1)"
      ],
      "metadata": {
        "id": "Hz86QBcGPELn"
      },
      "execution_count": null,
      "outputs": []
    },
    {
      "cell_type": "markdown",
      "source": [
        "## 2. ColorJitter Transforms"
      ],
      "metadata": {
        "id": "SKE9_6r7PF84"
      }
    },
    {
      "cell_type": "code",
      "source": [
        "transform2=transforms.Compose([transforms.ToTensor()])\n",
        "data2=dataset.CIFAR10('/content/torch_data/', transform=transform2)"
      ],
      "metadata": {
        "id": "GhL9L89dPGcE"
      },
      "execution_count": null,
      "outputs": []
    },
    {
      "cell_type": "markdown",
      "source": [
        "## 3. RandomRotation Transforms"
      ],
      "metadata": {
        "id": "nO4BP3C8PvlG"
      }
    },
    {
      "cell_type": "code",
      "source": [
        "transform3=transforms.Compose([transforms.ToTensor()])\n",
        "data3=dataset.CIFAR10('/content/torch_data/', transform=transform3)"
      ],
      "metadata": {
        "id": "uiX5QGGdPvlI"
      },
      "execution_count": null,
      "outputs": []
    },
    {
      "cell_type": "markdown",
      "source": [
        "## 4. Rotattion + ColorJitter Transforms"
      ],
      "metadata": {
        "id": "Ad5Nz7_2PtsF"
      }
    },
    {
      "cell_type": "code",
      "source": [
        "transform4=transforms.Compose([transforms.ToTensor()])\n",
        "data4=dataset.CIFAR10('/content/torch_data/', transform=transform4)"
      ],
      "metadata": {
        "id": "Xr-Adkf2PtsG"
      },
      "execution_count": null,
      "outputs": []
    },
    {
      "cell_type": "markdown",
      "source": [
        "## 5. Rotation + grayscale Transforms"
      ],
      "metadata": {
        "id": "No6oriC1Psva"
      }
    },
    {
      "cell_type": "code",
      "source": [
        "transform5=transforms.Compose([transforms.ToTensor()])\n",
        "data5=dataset.CIFAR10('/content/torch_data/', transform=transform5)"
      ],
      "metadata": {
        "id": "cceFCeVVPsvb"
      },
      "execution_count": null,
      "outputs": []
    }
  ]
}